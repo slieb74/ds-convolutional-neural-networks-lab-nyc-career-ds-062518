{
 "cells": [
  {
   "cell_type": "markdown",
   "metadata": {},
   "source": [
    "# Convolutional Neural Networks Lab\n",
    "\n",
    "## Objective\n",
    "\n",
    "In this lab, we'll learn and implement best practices for structuring a Deep Learning/Computer Vision project.  We'll then use design and train a Convolutional Neural Network to classify if an image contains Santa!"
   ]
  },
  {
   "cell_type": "markdown",
   "metadata": {},
   "source": [
    "## 1. Properly store your images"
   ]
  },
  {
   "cell_type": "markdown",
   "metadata": {},
   "source": [
    "When you're analyzing your image data, file management is important. We will be using the santa images again, but this time, they are just stored in two folders: `santa` and `not_santa`, under. We want to work with a `train`, `validation` and `test` data set now, as we know by now that this is the best way to go. "
   ]
  },
  {
   "cell_type": "markdown",
   "metadata": {},
   "source": [
    "Let's import libraries `os` and `shutil`, as we'll need them to create the new folders and move the new files in there.  Import these modules in the cell below. "
   ]
  },
  {
   "cell_type": "code",
   "execution_count": 68,
   "metadata": {},
   "outputs": [],
   "source": [
    "import os\n",
    "import shutil"
   ]
  },
  {
   "cell_type": "markdown",
   "metadata": {},
   "source": [
    "Create three objects representing the existing directories 'data/santa/' as `data_santa_dir` and 'data/not_santa/' as `data_not_santa_dir`. We will create a new directory 'split/' as `new_dir`, where we will split the data set in three groups (or three subdirectories) 'train', 'test' and 'validation', each containing `santa` and `not_santa` subfolders. The final desired structure is represented below:"
   ]
  },
  {
   "cell_type": "markdown",
   "metadata": {},
   "source": [
    "![title](folder_structure.png)"
   ]
  },
  {
   "cell_type": "code",
   "execution_count": 69,
   "metadata": {},
   "outputs": [],
   "source": [
    "data_santa_dir = 'data/santa/'\n",
    "data_not_santa_dir = 'data/not_santa/'\n",
    "new_dir = 'split/'"
   ]
  },
  {
   "cell_type": "markdown",
   "metadata": {},
   "source": [
    "You can use `os.listdir()` to create an object that stores all the relevant image names. \n",
    "\n",
    "Run the cell below to have create a list comprehension that reads and stores all filenames that end with `.jpg` inside of the `data_santa_dir` directory we stored earlier."
   ]
  },
  {
   "cell_type": "code",
   "execution_count": 70,
   "metadata": {},
   "outputs": [],
   "source": [
    "imgs_santa = [file for file in os.listdir(data_santa_dir) if file.endswith('.jpg')]"
   ]
  },
  {
   "cell_type": "markdown",
   "metadata": {},
   "source": [
    "Let's inspect the first 10 to see if it worked correctly."
   ]
  },
  {
   "cell_type": "code",
   "execution_count": 71,
   "metadata": {},
   "outputs": [
    {
     "data": {
      "text/plain": [
       "['00000428.jpg',\n",
       " '00000400.jpg',\n",
       " '00000366.jpg',\n",
       " '00000372.jpg',\n",
       " '00000414.jpg',\n",
       " '00000399.jpg',\n",
       " '00000158.jpg',\n",
       " '00000164.jpg',\n",
       " '00000170.jpg',\n",
       " '00000038.jpg']"
      ]
     },
     "execution_count": 71,
     "metadata": {},
     "output_type": "execute_result"
    }
   ],
   "source": [
    "imgs_santa[0:10]"
   ]
  },
  {
   "cell_type": "markdown",
   "metadata": {},
   "source": [
    "Let's see how many images there are in the 'santa' directory.  Complete the following print statement to determine how many total images are in this directory. "
   ]
  },
  {
   "cell_type": "code",
   "execution_count": 72,
   "metadata": {},
   "outputs": [
    {
     "name": "stdout",
     "output_type": "stream",
     "text": [
      "There are 461 santa images\n"
     ]
    }
   ],
   "source": [
    "print('There are',len(imgs_santa), 'santa images')"
   ]
  },
  {
   "cell_type": "markdown",
   "metadata": {},
   "source": [
    "Now, repeat the process we did above, but for the `not_santa` directory.  Write the appropriate list comprehension below to create an array containing all the filenames contained within the `not_santa` directory."
   ]
  },
  {
   "cell_type": "code",
   "execution_count": 73,
   "metadata": {},
   "outputs": [],
   "source": [
    "imgs_not_santa = [file for file in os.listdir(data_not_santa_dir) if file.endswith('.jpg')]"
   ]
  },
  {
   "cell_type": "code",
   "execution_count": 74,
   "metadata": {},
   "outputs": [
    {
     "name": "stdout",
     "output_type": "stream",
     "text": [
      "There are 461 images without santa\n"
     ]
    }
   ],
   "source": [
    "print('There are', len(imgs_not_santa), 'images without santa')"
   ]
  },
  {
   "cell_type": "markdown",
   "metadata": {},
   "source": [
    "Create all the folders and subfolder in order to get the structure represented above. You can use `os.path.join` to create strings that will be used later on to generate new directories.\n",
    "\n",
    "In the cell below, create the `'split'` directory we'll need by calling `os.mkdir()` on the `new_dir` variable we created above. "
   ]
  },
  {
   "cell_type": "code",
   "execution_count": 75,
   "metadata": {},
   "outputs": [],
   "source": [
    "os.mkdir(new_dir)"
   ]
  },
  {
   "cell_type": "markdown",
   "metadata": {},
   "source": [
    "Now, run the cell below to join all the paths as needed.  Pay special attention to what we're doing at this step, and try to figure out what each path will contain.  If you're not sure, inspect them!"
   ]
  },
  {
   "cell_type": "code",
   "execution_count": 76,
   "metadata": {},
   "outputs": [],
   "source": [
    "train_folder = os.path.join(new_dir, 'train')\n",
    "train_santa = os.path.join(train_folder, 'santa')\n",
    "train_not_santa = os.path.join(train_folder, 'not_santa')\n",
    "\n",
    "test_folder = os.path.join(new_dir, 'test')\n",
    "test_santa = os.path.join(test_folder, 'santa')\n",
    "test_not_santa = os.path.join(test_folder, 'not_santa')\n",
    "\n",
    "val_folder = os.path.join(new_dir, 'validation')\n",
    "val_santa = os.path.join(val_folder, 'santa')\n",
    "val_not_santa = os.path.join(val_folder, 'not_santa')"
   ]
  },
  {
   "cell_type": "markdown",
   "metadata": {},
   "source": [
    "Display the path for `train_santa` in the cell below.  Does this match with the path you thought it created?"
   ]
  },
  {
   "cell_type": "code",
   "execution_count": 77,
   "metadata": {},
   "outputs": [
    {
     "data": {
      "text/plain": [
       "'split/train/santa'"
      ]
     },
     "execution_count": 77,
     "metadata": {},
     "output_type": "execute_result"
    }
   ],
   "source": [
    "train_santa"
   ]
  },
  {
   "cell_type": "markdown",
   "metadata": {},
   "source": [
    "Now use all the path strings you created to make new directories. You can use `os.mkdir()` to do this. Go have a look at your directory and see if this worked!\n",
    "\n",
    "In the cell below, call `os.mkdir()` on every path we created in the cell above. "
   ]
  },
  {
   "cell_type": "code",
   "execution_count": 78,
   "metadata": {},
   "outputs": [],
   "source": [
    "os.mkdir(train_folder)\n",
    "os.mkdir(train_santa)\n",
    "os.mkdir(train_not_santa)\n",
    "\n",
    "os.mkdir(test_folder)\n",
    "os.mkdir(test_santa)\n",
    "os.mkdir(test_not_santa)\n",
    "\n",
    "os.mkdir(val_folder)\n",
    "os.mkdir(val_santa)\n",
    "os.mkdir(val_not_santa)"
   ]
  },
  {
   "cell_type": "markdown",
   "metadata": {},
   "source": [
    "Copy the Santa images in the three santa subfolders. Let's put the first 271 images in the training set, the next 100 images in the validation set and the final 90 images in the test set.\n",
    "\n",
    "The code for moving the images into the training set has been provided for you.  Use this as a reference to complete the validation santa and test santa cells!"
   ]
  },
  {
   "cell_type": "code",
   "execution_count": 79,
   "metadata": {},
   "outputs": [],
   "source": [
    "# train santa\n",
    "imgs = imgs_santa[:271]\n",
    "for img in imgs:\n",
    "    origin = os.path.join(data_santa_dir, img)\n",
    "    destination = os.path.join(train_santa, img)\n",
    "    shutil.copyfile(origin, destination)"
   ]
  },
  {
   "cell_type": "code",
   "execution_count": 80,
   "metadata": {},
   "outputs": [],
   "source": [
    "# validation santa\n",
    "imgs = imgs_santa[271:371]\n",
    "for img in imgs:\n",
    "    origin = os.path.join(data_santa_dir, img)\n",
    "    destination = os.path.join(val_santa, img)\n",
    "    shutil.copyfile(origin, destination)\n"
   ]
  },
  {
   "cell_type": "code",
   "execution_count": 81,
   "metadata": {},
   "outputs": [],
   "source": [
    "# test santa\n",
    "imgs = imgs_santa[371:]\n",
    "for img in imgs:\n",
    "    origin = os.path.join(data_santa_dir, img)\n",
    "    destination = os.path.join(test_santa, img)\n",
    "    shutil.copyfile(origin, destination)\n"
   ]
  },
  {
   "cell_type": "markdown",
   "metadata": {},
   "source": [
    "Now, repeat all this for the 'not_santa' images!"
   ]
  },
  {
   "cell_type": "code",
   "execution_count": 82,
   "metadata": {},
   "outputs": [],
   "source": [
    "# train not_santa\n",
    "imgs = imgs_not_santa[:271]\n",
    "for img in imgs:\n",
    "    origin = os.path.join(data_not_santa_dir, img)\n",
    "    destination = os.path.join(train_not_santa, img)\n",
    "    shutil.copyfile(origin, destination) \n",
    "\n",
    "# validation not_santa\n",
    "imgs = imgs_not_santa[271:371]\n",
    "for img in imgs:\n",
    "    origin = os.path.join(data_not_santa_dir, img)\n",
    "    destination = os.path.join(val_not_santa, img)\n",
    "    shutil.copyfile(origin, destination) \n",
    "\n",
    "# test not_santa\n",
    "imgs = imgs_not_santa[371:]\n",
    "for img in imgs:\n",
    "    origin = os.path.join(data_not_santa_dir, img)\n",
    "    destination = os.path.join(test_not_santa, img)\n",
    "    shutil.copyfile(origin, destination) \n"
   ]
  },
  {
   "cell_type": "markdown",
   "metadata": {},
   "source": [
    "Let's print out how many images we have in each directory so we know for sure our numbers are right!  Complete each of the following print statements to examine how many images we have in each subdirectory.  "
   ]
  },
  {
   "cell_type": "code",
   "execution_count": 83,
   "metadata": {},
   "outputs": [
    {
     "name": "stdout",
     "output_type": "stream",
     "text": [
      "There are 271 santa images in the training set\n"
     ]
    }
   ],
   "source": [
    "print('There are', len(os.listdir(train_santa)), 'santa images in the training set')\n",
    "# Expected Output: There are 271 santa images in the training set"
   ]
  },
  {
   "cell_type": "code",
   "execution_count": 84,
   "metadata": {},
   "outputs": [
    {
     "name": "stdout",
     "output_type": "stream",
     "text": [
      "There are 100 santa images in the validation set\n"
     ]
    }
   ],
   "source": [
    "print('There are', len(os.listdir(val_santa)), 'santa images in the validation set')\n",
    "# Expected Output: There are 100 santa images in the validation set"
   ]
  },
  {
   "cell_type": "code",
   "execution_count": 85,
   "metadata": {},
   "outputs": [
    {
     "name": "stdout",
     "output_type": "stream",
     "text": [
      "There are 90 santa images in the test set\n"
     ]
    }
   ],
   "source": [
    "print('There are', len(os.listdir(test_santa)), 'santa images in the test set')\n",
    "# Expected Output: There are 90 santa images in the test set"
   ]
  },
  {
   "cell_type": "code",
   "execution_count": 86,
   "metadata": {},
   "outputs": [
    {
     "name": "stdout",
     "output_type": "stream",
     "text": [
      "There are 271 images without santa in the train set\n"
     ]
    }
   ],
   "source": [
    "print('There are', len(os.listdir(train_not_santa)), 'images without santa in the train set')\n",
    "# Expected Output: There are 271 images without santa in the train set"
   ]
  },
  {
   "cell_type": "code",
   "execution_count": 87,
   "metadata": {},
   "outputs": [
    {
     "name": "stdout",
     "output_type": "stream",
     "text": [
      "There are 100 images without santa in the validation set\n"
     ]
    }
   ],
   "source": [
    "print('There are', len(os.listdir(val_not_santa)), 'images without santa in the validation set')\n",
    "# Expected Output: There are 100 images without santa in the validation set"
   ]
  },
  {
   "cell_type": "code",
   "execution_count": 88,
   "metadata": {},
   "outputs": [
    {
     "name": "stdout",
     "output_type": "stream",
     "text": [
      "There are 90 images without santa in the test set\n"
     ]
    }
   ],
   "source": [
    "print('There are', len(os.listdir(test_not_santa)), 'images without santa in the test set')\n",
    "# Expected Output: There are 90 images without santa in the test set"
   ]
  },
  {
   "cell_type": "markdown",
   "metadata": {},
   "source": [
    "## Data Preprocessing"
   ]
  },
  {
   "cell_type": "markdown",
   "metadata": {},
   "source": [
    "We'll make use of the image preprocessing functionality found in keras to reshape our data as needed.  \n",
    "\n",
    "Now that we've sorted our data, we can easily use Keras' module with image-processing tools. Let's import the necessary libraries below. Run the cell below to import everything we'll need. "
   ]
  },
  {
   "cell_type": "code",
   "execution_count": 90,
   "metadata": {},
   "outputs": [],
   "source": [
    "import time\n",
    "import matplotlib.pyplot as plt\n",
    "import scipy\n",
    "import numpy as np\n",
    "from PIL import Image\n",
    "from scipy import ndimage\n",
    "from keras.preprocessing.image import ImageDataGenerator, array_to_img, img_to_array, load_img\n",
    "\n",
    "np.random.seed(123)"
   ]
  },
  {
   "cell_type": "markdown",
   "metadata": {},
   "source": [
    "Now, complete the image generator code in the cell below.  The code for test generator has been completed for you--use this as a reference to complete the `val_generator` and `train_generator` objects.  Keep the parameters the same across all 3 of them, so that there won't be any discrepancies between how the images look in each directory. \n",
    "\n",
    "(**_NOTE:_** The directory path referenced will depend on which set it is targeting, and the `batch_size` parameter will correspond to the number of images in the corresponding set, so these parameters will depend on if it referencing test, val, or train!)"
   ]
  },
  {
   "cell_type": "code",
   "execution_count": 91,
   "metadata": {},
   "outputs": [
    {
     "name": "stdout",
     "output_type": "stream",
     "text": [
      "Found 180 images belonging to 2 classes.\n",
      "Found 200 images belonging to 2 classes.\n",
      "Found 542 images belonging to 2 classes.\n"
     ]
    }
   ],
   "source": [
    "# get all the data in the directory split/test (180 images), and reshape them\n",
    "test_generator = ImageDataGenerator(rescale=1./255).flow_from_directory(\n",
    "        test_folder, \n",
    "        target_size=(64, 64), batch_size = 180) \n",
    "\n",
    "# get all the data in the directory split/validation (200 images), and reshape them\n",
    "val_generator = ImageDataGenerator(rescale=1./255).flow_from_directory(\n",
    "        val_folder, target_size=(64,64), batch_size=200)\n",
    "\n",
    "# get all the data in the directory split/train (542 images), and reshape them\n",
    "train_generator = ImageDataGenerator(rescale=1./255).flow_from_directory(\n",
    "        train_folder, target_size=(64,64), batch_size=542)"
   ]
  },
  {
   "cell_type": "markdown",
   "metadata": {},
   "source": [
    "Now, in the cell below, separate out the images and labels by calling `next()` on the appropriate generators.  The first one has been completed for you.  "
   ]
  },
  {
   "cell_type": "code",
   "execution_count": 92,
   "metadata": {},
   "outputs": [],
   "source": [
    "# create the data sets\n",
    "train_images, train_labels = next(train_generator)\n",
    "test_images, test_labels = next(test_generator)\n",
    "val_images, val_labels = next(val_generator)"
   ]
  },
  {
   "cell_type": "markdown",
   "metadata": {},
   "source": [
    "Now, run the cell below to get summary statistics on the current shape of our data."
   ]
  },
  {
   "cell_type": "code",
   "execution_count": 97,
   "metadata": {},
   "outputs": [
    {
     "name": "stdout",
     "output_type": "stream",
     "text": [
      "Number of training samples: 542\n",
      "Number of testing samples: 180\n",
      "Number of validation samples: 200\n",
      "train_images shape: (542, 64, 64, 3)\n",
      "train_labels shape: (542, 2)\n",
      "test_images shape: (180, 64, 64, 3)\n",
      "test_labels shape: (180, 2)\n",
      "val_images shape: (200, 64, 64, 3)\n",
      "val_labels shape: (200, 2)\n"
     ]
    }
   ],
   "source": [
    "# Explore your dataset again\n",
    "m_train = train_images.shape[0]\n",
    "num_px = train_images.shape[1]\n",
    "m_test = test_images.shape[0]\n",
    "m_val = val_images.shape[0]\n",
    "\n",
    "print (\"Number of training samples: \" + str(m_train))\n",
    "print (\"Number of testing samples: \" + str(m_test))\n",
    "print (\"Number of validation samples: \" + str(m_val))\n",
    "print (\"train_images shape: \" + str(train_images.shape))\n",
    "print (\"train_labels shape: \" + str(train_labels.shape))\n",
    "print (\"test_images shape: \" + str(test_images.shape))\n",
    "print (\"test_labels shape: \" + str(test_labels.shape))\n",
    "print (\"val_images shape: \" + str(val_images.shape))\n",
    "print (\"val_labels shape: \" + str(val_labels.shape))"
   ]
  },
  {
   "cell_type": "markdown",
   "metadata": {},
   "source": [
    "If these numbers look confusing, don't sweat it--these are **_Tensors_**.  A tensor is an n-dimensional array.  Take a look at the the shape of `train_images`:  \n",
    "<br>  \n",
    "<center>`(542, 64, 64, 3)`</center>\n",
    "\n",
    "In plain English, we would read this as \"`train_images` contains 542 images.  These images are 64 pixels wide, 64 pixels high, and have 3 color channels, meaning that these are color images\".  \n",
    "\n",
    "Since we'll be using a Multi-Layer Perceptron as our baseline, that means we'll need to create a version of our data that is reshaped from tensors to vectors. \n",
    "\n",
    "In the cell below, complete the code to reshape our images.  The first one has been provided for you. "
   ]
  },
  {
   "cell_type": "code",
   "execution_count": 98,
   "metadata": {},
   "outputs": [
    {
     "name": "stdout",
     "output_type": "stream",
     "text": [
      "(542, 12288)\n",
      "(180, 12288)\n",
      "(200, 12288)\n"
     ]
    }
   ],
   "source": [
    "train_img = train_images.reshape(train_images.shape[0], -1)\n",
    "test_img = test_images.reshape(test_images.shape[0], -1)\n",
    "val_img = val_images.reshape(val_images.shape[0], -1)\n",
    "\n",
    "print(train_img.shape) # Expected Output: (542, 12288)\n",
    "print(test_img.shape) # Expected Output: (180, 12288)\n",
    "print(val_img.shape) # Expected Output: (200, 12288)"
   ]
  },
  {
   "cell_type": "markdown",
   "metadata": {},
   "source": [
    "We also need to rehape our labels accordingly.  In the cell below, complete the code to reshape our labels. The first one has been provided for you.  \n",
    "\n",
    "**_Hint:_** Pay attention to the dimensionality in the 2nd parameter inside the `.reshape` call--it should align with the number of items contained in that set!"
   ]
  },
  {
   "cell_type": "code",
   "execution_count": 99,
   "metadata": {},
   "outputs": [],
   "source": [
    "train_y = np.reshape(train_labels[:,0], (542,1))\n",
    "test_y = np.reshape(test_labels[:,0], (180,1))\n",
    "val_y = np.reshape(val_labels[:,0], (200,1))"
   ]
  },
  {
   "cell_type": "markdown",
   "metadata": {},
   "source": [
    "### Building our Baseline MLP\n",
    "\n",
    "Since we want to see what kind of performance gains a CNN gives us a basic MLP, that means we'll need to build and train a basic MLP first!\n",
    "\n",
    "In the cell below, build and train an MLP with the following specifications:\n",
    "\n",
    "* Import whatever you'll need to build the network from keras\n",
    "* `input_shape=(12288,)` (remember to declare this when creating the first hidden layer)\n",
    "* Hidden Layer 1: 20 neurons, relu activation\n",
    "* Hidden Layer 2: 7 neurons, relu activation\n",
    "* Hideen Layer 3: 5 neurons, relu activation\n",
    "* Output layer: 1 neuron, sigmoid activation"
   ]
  },
  {
   "cell_type": "code",
   "execution_count": 127,
   "metadata": {},
   "outputs": [],
   "source": [
    "from keras.models import Sequential\n",
    "from keras import layers\n",
    "from keras.layers import Dense\n",
    "\n",
    "model = Sequential()\n",
    "\n",
    "model.add(Dense(20, activation='relu', input_shape=(12288,)))\n",
    "model.add(Dense(7, activation='relu'))\n",
    "model.add(Dense(5, activation='relu'))\n",
    "model.add(Dense(1, activation='sigmoid'))"
   ]
  },
  {
   "cell_type": "markdown",
   "metadata": {},
   "source": [
    "Now, compile the model with the following hyperparameters:\n",
    "\n",
    "* `'adam'` optimizer\n",
    "* `'binary_crossentropy'` for loss\n",
    "* set metrics to `['accuracy']`"
   ]
  },
  {
   "cell_type": "code",
   "execution_count": 128,
   "metadata": {},
   "outputs": [],
   "source": [
    "model.compile(optimizer='adam', loss='binary_crossentropy', metrics=['accuracy'])"
   ]
  },
  {
   "cell_type": "markdown",
   "metadata": {},
   "source": [
    "Now, fit the model.  In addition to passing in our training data and labels, also set epochs to `50`, batch size to `32`, and pass in our validation data as well. "
   ]
  },
  {
   "cell_type": "code",
   "execution_count": 129,
   "metadata": {
    "scrolled": true
   },
   "outputs": [
    {
     "name": "stdout",
     "output_type": "stream",
     "text": [
      "Train on 542 samples, validate on 200 samples\n",
      "Epoch 1/50\n",
      "542/542 [==============================] - 1s 2ms/step - loss: 0.7811 - acc: 0.4963 - val_loss: 0.8335 - val_acc: 0.5000\n",
      "Epoch 2/50\n",
      "542/542 [==============================] - 0s 309us/step - loss: 0.6396 - acc: 0.6273 - val_loss: 0.5907 - val_acc: 0.6200\n",
      "Epoch 3/50\n",
      "542/542 [==============================] - 0s 364us/step - loss: 0.6050 - acc: 0.6476 - val_loss: 0.6488 - val_acc: 0.5250\n",
      "Epoch 4/50\n",
      "542/542 [==============================] - 0s 377us/step - loss: 0.5216 - acc: 0.7435 - val_loss: 0.5106 - val_acc: 0.7550\n",
      "Epoch 5/50\n",
      "542/542 [==============================] - 0s 462us/step - loss: 0.4362 - acc: 0.8247 - val_loss: 0.4768 - val_acc: 0.8150\n",
      "Epoch 6/50\n",
      "542/542 [==============================] - 0s 416us/step - loss: 0.4203 - acc: 0.8192 - val_loss: 0.4647 - val_acc: 0.8200\n",
      "Epoch 7/50\n",
      "542/542 [==============================] - 0s 379us/step - loss: 0.4060 - acc: 0.8303 - val_loss: 0.4978 - val_acc: 0.7100\n",
      "Epoch 8/50\n",
      "542/542 [==============================] - 0s 329us/step - loss: 0.3673 - acc: 0.8598 - val_loss: 0.4449 - val_acc: 0.8200\n",
      "Epoch 9/50\n",
      "542/542 [==============================] - 0s 357us/step - loss: 0.3268 - acc: 0.8819 - val_loss: 0.4480 - val_acc: 0.8200\n",
      "Epoch 10/50\n",
      "542/542 [==============================] - 0s 393us/step - loss: 0.3291 - acc: 0.8856 - val_loss: 0.5227 - val_acc: 0.7400\n",
      "Epoch 11/50\n",
      "542/542 [==============================] - 0s 318us/step - loss: 0.3215 - acc: 0.8745 - val_loss: 0.4409 - val_acc: 0.8150\n",
      "Epoch 12/50\n",
      "542/542 [==============================] - 0s 356us/step - loss: 0.2795 - acc: 0.9077 - val_loss: 0.4603 - val_acc: 0.7800\n",
      "Epoch 13/50\n",
      "542/542 [==============================] - 0s 366us/step - loss: 0.2539 - acc: 0.9244 - val_loss: 0.4661 - val_acc: 0.7900\n",
      "Epoch 14/50\n",
      "542/542 [==============================] - 0s 343us/step - loss: 0.2453 - acc: 0.9188 - val_loss: 0.4609 - val_acc: 0.8000\n",
      "Epoch 15/50\n",
      "542/542 [==============================] - 0s 413us/step - loss: 0.2248 - acc: 0.9465 - val_loss: 0.4229 - val_acc: 0.8200\n",
      "Epoch 16/50\n",
      "542/542 [==============================] - 0s 537us/step - loss: 0.2029 - acc: 0.9465 - val_loss: 0.5167 - val_acc: 0.8000\n",
      "Epoch 17/50\n",
      "542/542 [==============================] - 0s 498us/step - loss: 0.2222 - acc: 0.9373 - val_loss: 0.4285 - val_acc: 0.8450\n",
      "Epoch 18/50\n",
      "542/542 [==============================] - 0s 326us/step - loss: 0.1846 - acc: 0.9483 - val_loss: 0.5357 - val_acc: 0.7600\n",
      "Epoch 19/50\n",
      "542/542 [==============================] - 0s 292us/step - loss: 0.1753 - acc: 0.9520 - val_loss: 0.5119 - val_acc: 0.7800\n",
      "Epoch 20/50\n",
      "542/542 [==============================] - 0s 337us/step - loss: 0.1672 - acc: 0.9557 - val_loss: 0.7197 - val_acc: 0.7300\n",
      "Epoch 21/50\n",
      "542/542 [==============================] - 0s 334us/step - loss: 0.1710 - acc: 0.9520 - val_loss: 0.4333 - val_acc: 0.8200\n",
      "Epoch 22/50\n",
      "542/542 [==============================] - 0s 286us/step - loss: 0.1450 - acc: 0.9631 - val_loss: 0.5184 - val_acc: 0.7550\n",
      "Epoch 23/50\n",
      "542/542 [==============================] - 0s 305us/step - loss: 0.1574 - acc: 0.9520 - val_loss: 0.5558 - val_acc: 0.7750\n",
      "Epoch 24/50\n",
      "542/542 [==============================] - 0s 322us/step - loss: 0.1206 - acc: 0.9760 - val_loss: 0.5168 - val_acc: 0.8000\n",
      "Epoch 25/50\n",
      "542/542 [==============================] - 0s 285us/step - loss: 0.1023 - acc: 0.9926 - val_loss: 0.4646 - val_acc: 0.8200\n",
      "Epoch 26/50\n",
      "542/542 [==============================] - 0s 289us/step - loss: 0.1073 - acc: 0.9834 - val_loss: 0.4535 - val_acc: 0.8200\n",
      "Epoch 27/50\n",
      "542/542 [==============================] - 0s 283us/step - loss: 0.0996 - acc: 0.9871 - val_loss: 0.6465 - val_acc: 0.7350\n",
      "Epoch 28/50\n",
      "542/542 [==============================] - 0s 379us/step - loss: 0.0913 - acc: 0.9834 - val_loss: 0.4608 - val_acc: 0.8400\n",
      "Epoch 29/50\n",
      "542/542 [==============================] - 0s 420us/step - loss: 0.1020 - acc: 0.9760 - val_loss: 0.4620 - val_acc: 0.8100\n",
      "Epoch 30/50\n",
      "542/542 [==============================] - 0s 316us/step - loss: 0.0791 - acc: 0.9908 - val_loss: 0.4725 - val_acc: 0.8150\n",
      "Epoch 31/50\n",
      "542/542 [==============================] - 0s 308us/step - loss: 0.0825 - acc: 0.9889 - val_loss: 0.6084 - val_acc: 0.7950\n",
      "Epoch 32/50\n",
      "542/542 [==============================] - 0s 323us/step - loss: 0.0816 - acc: 0.9908 - val_loss: 0.4811 - val_acc: 0.8350\n",
      "Epoch 33/50\n",
      "542/542 [==============================] - 0s 317us/step - loss: 0.0650 - acc: 0.9945 - val_loss: 0.4868 - val_acc: 0.8200\n",
      "Epoch 34/50\n",
      "542/542 [==============================] - 0s 306us/step - loss: 0.0603 - acc: 0.9945 - val_loss: 0.5183 - val_acc: 0.8350\n",
      "Epoch 35/50\n",
      "542/542 [==============================] - 0s 348us/step - loss: 0.0549 - acc: 0.9963 - val_loss: 0.7064 - val_acc: 0.7450\n",
      "Epoch 36/50\n",
      "542/542 [==============================] - 0s 313us/step - loss: 0.0621 - acc: 0.9889 - val_loss: 0.4872 - val_acc: 0.8200\n",
      "Epoch 37/50\n",
      "542/542 [==============================] - 0s 307us/step - loss: 0.0816 - acc: 0.9871 - val_loss: 0.5156 - val_acc: 0.8000\n",
      "Epoch 38/50\n",
      "542/542 [==============================] - 0s 307us/step - loss: 0.0697 - acc: 0.9908 - val_loss: 0.4856 - val_acc: 0.8200\n",
      "Epoch 39/50\n",
      "542/542 [==============================] - 0s 452us/step - loss: 0.0499 - acc: 0.9963 - val_loss: 0.5113 - val_acc: 0.8150\n",
      "Epoch 40/50\n",
      "542/542 [==============================] - 0s 313us/step - loss: 0.0568 - acc: 0.9945 - val_loss: 0.5249 - val_acc: 0.8100\n",
      "Epoch 41/50\n",
      "542/542 [==============================] - 0s 324us/step - loss: 0.0641 - acc: 0.9889 - val_loss: 0.5489 - val_acc: 0.8050\n",
      "Epoch 42/50\n",
      "542/542 [==============================] - 0s 328us/step - loss: 0.0484 - acc: 0.9945 - val_loss: 0.5319 - val_acc: 0.8350\n",
      "Epoch 43/50\n",
      "542/542 [==============================] - 0s 324us/step - loss: 0.0371 - acc: 0.9963 - val_loss: 0.5352 - val_acc: 0.8200\n",
      "Epoch 44/50\n",
      "542/542 [==============================] - 0s 332us/step - loss: 0.0775 - acc: 0.9742 - val_loss: 1.4653 - val_acc: 0.6900\n",
      "Epoch 45/50\n",
      "542/542 [==============================] - 0s 347us/step - loss: 0.2551 - acc: 0.9004 - val_loss: 0.7736 - val_acc: 0.7600\n",
      "Epoch 46/50\n",
      "542/542 [==============================] - 0s 352us/step - loss: 0.1525 - acc: 0.9391 - val_loss: 0.6782 - val_acc: 0.8100\n",
      "Epoch 47/50\n",
      "542/542 [==============================] - 0s 346us/step - loss: 0.0627 - acc: 0.9815 - val_loss: 0.5789 - val_acc: 0.8100\n",
      "Epoch 48/50\n",
      "542/542 [==============================] - 0s 325us/step - loss: 0.0383 - acc: 0.9963 - val_loss: 0.7827 - val_acc: 0.7700\n",
      "Epoch 49/50\n",
      "542/542 [==============================] - 0s 372us/step - loss: 0.0391 - acc: 0.9963 - val_loss: 0.5709 - val_acc: 0.8150\n",
      "Epoch 50/50\n",
      "542/542 [==============================] - 0s 314us/step - loss: 0.0339 - acc: 0.9945 - val_loss: 0.6623 - val_acc: 0.8050\n"
     ]
    }
   ],
   "source": [
    "mlp_history = model.fit(train_img, train_y, epochs=50,\n",
    "                        batch_size=32, validation_data=(val_img, val_y))"
   ]
  },
  {
   "cell_type": "markdown",
   "metadata": {},
   "source": [
    "Now, get our final training and testing results using `model.evaluate` and passing in the appropriate set of data/labels in the cells below. "
   ]
  },
  {
   "cell_type": "code",
   "execution_count": 130,
   "metadata": {},
   "outputs": [
    {
     "name": "stdout",
     "output_type": "stream",
     "text": [
      "542/542 [==============================] - 0s 95us/step\n"
     ]
    }
   ],
   "source": [
    "results_train = model.evaluate(train_img, train_y)"
   ]
  },
  {
   "cell_type": "code",
   "execution_count": 131,
   "metadata": {},
   "outputs": [
    {
     "name": "stdout",
     "output_type": "stream",
     "text": [
      "180/180 [==============================] - 0s 399us/step\n"
     ]
    }
   ],
   "source": [
    "results_test = model.evaluate(test_img, test_y)"
   ]
  },
  {
   "cell_type": "code",
   "execution_count": 132,
   "metadata": {},
   "outputs": [
    {
     "data": {
      "text/plain": [
       "[0.027252109143951722, 0.9981549815498155]"
      ]
     },
     "execution_count": 132,
     "metadata": {},
     "output_type": "execute_result"
    }
   ],
   "source": [
    "results_train"
   ]
  },
  {
   "cell_type": "code",
   "execution_count": 133,
   "metadata": {},
   "outputs": [
    {
     "data": {
      "text/plain": [
       "[0.5369391421477, 0.816666665342119]"
      ]
     },
     "execution_count": 133,
     "metadata": {},
     "output_type": "execute_result"
    }
   ],
   "source": [
    "results_test"
   ]
  },
  {
   "cell_type": "markdown",
   "metadata": {},
   "source": [
    "Finally, let's plot our accuracy and our loss."
   ]
  },
  {
   "cell_type": "code",
   "execution_count": 134,
   "metadata": {},
   "outputs": [
    {
     "data": {
      "image/png": "[encoded data removed]",
      "text/plain": [
       "<Figure size 432x288 with 1 Axes>"
      ]
     },
     "metadata": {},
     "output_type": "display_data"
    }
   ],
   "source": [
    "history = mlp_history.history\n",
    "\n",
    "plt.figure()\n",
    "plt.plot(history['acc'])\n",
    "plt.plot(history['val_acc'])\n",
    "plt.title('Accuracy/Validation Accuracy for MLP')\n",
    "plt.xlabel('Epoch')\n",
    "plt.legend(['accuracy', 'Val Accuracy'])\n",
    "plt.show()"
   ]
  },
  {
   "cell_type": "markdown",
   "metadata": {},
   "source": [
    "Our model is currently \"thrashing\"--it has not yet converged at the right values, and is extremely sensitive to noise. \n",
    "\n",
    "Remember that, in our lab on \"building deeper neural networks from scratch, we got to a train set prediction was 95%, and a test set prediction of 74.23%.  "
   ]
  },
  {
   "cell_type": "markdown",
   "metadata": {},
   "source": [
    "This result is similar to what we got building our manual \"deeper\" dense model. The results are not entirely different. This is not a surprise! We should note that there were some differences in our manual approach and int then model we just built:\n",
    "- Before, we only had a training and a validation set (which was at the same time the test set). Now we have split up the data 3-ways.\n",
    "- We didn't use minibatches before, yet we used mini-batches of 32 units here.\n"
   ]
  },
  {
   "cell_type": "markdown",
   "metadata": {},
   "source": [
    "# 3. Convnet\n",
    "\n",
    "Now, we'll build a Convolutional Neural Network to see how it measures up. \n",
    "\n",
    "In the cell below, create a CNN with the following specifications:\n",
    "\n",
    "* an `input_shape` of `(64, 64, 3)` (still declare this during the creating of the first hidden layer)\n",
    "* Layer 1: Conv2D, 32 filters, filter size `(3,3)`, `relu` activation\n",
    "* Layer 2: MaxPooling2D, shape `(2,2)`\n",
    "* Layer 3:  Conv2D, 32 filters, filter size `(4, 4)`, `relu` activation\n",
    "* Layer 4: MaxPooling2D, shape `(2,2)`\n",
    "* Layer 5: Conv2D, 64 filters, filter size `(3,3)`, `relu` activation\n",
    "* Layer 6: a `Flatten()` layer\n",
    "* Layer 7: Dense layer, 64 neurons, `relu` activation\n",
    "* Layer 8: Output layer, 1 neuron, `sigmoid` activation"
   ]
  },
  {
   "cell_type": "code",
   "execution_count": 168,
   "metadata": {},
   "outputs": [],
   "source": [
    "model = Sequential()\n",
    "\n",
    "model.add(layers.Conv2D(32, (3,3), activation='relu', input_shape=(64,64,3)))\n",
    "model.add(layers.MaxPooling2D((2,2)))\n",
    "model.add(layers.Conv2D(32,(4,4),activation='relu'))\n",
    "model.add(layers.MaxPooling2D((2,2)))\n",
    "model.add(layers.Conv2D(64,(3,3), activation='relu'))\n",
    "\n",
    "model.add(layers.Flatten())\n",
    "\n",
    "model.add(Dense(64, activation='relu'))\n",
    "model.add(Dense(1, activation='sigmoid'))\n"
   ]
  },
  {
   "cell_type": "markdown",
   "metadata": {},
   "source": [
    "Now, compile the model with the same parameters we used for our MLP above in the cell below."
   ]
  },
  {
   "cell_type": "code",
   "execution_count": 169,
   "metadata": {},
   "outputs": [],
   "source": [
    "model.compile(optimizer='adam',loss='binary_crossentropy',metrics=['accuracy'])"
   ]
  },
  {
   "cell_type": "markdown",
   "metadata": {},
   "source": [
    "Finally, fit the model.  In addition to our training images and labels, set epochs to `30`, batch size to `32`, and also pass in our validation data."
   ]
  },
  {
   "cell_type": "code",
   "execution_count": 170,
   "metadata": {
    "scrolled": true
   },
   "outputs": [
    {
     "name": "stdout",
     "output_type": "stream",
     "text": [
      "Train on 542 samples, validate on 200 samples\n",
      "Epoch 1/30\n",
      "542/542 [==============================] - 6s 12ms/step - loss: 0.6372 - acc: 0.5683 - val_loss: 0.5445 - val_acc: 0.7650\n",
      "Epoch 2/30\n",
      "542/542 [==============================] - 5s 9ms/step - loss: 0.4836 - acc: 0.8063 - val_loss: 0.4412 - val_acc: 0.8650\n",
      "Epoch 3/30\n",
      "542/542 [==============================] - 5s 9ms/step - loss: 0.3188 - acc: 0.8727 - val_loss: 0.3155 - val_acc: 0.8500\n",
      "Epoch 4/30\n",
      "542/542 [==============================] - 5s 9ms/step - loss: 0.2593 - acc: 0.9114 - val_loss: 0.3088 - val_acc: 0.8550\n",
      "Epoch 5/30\n",
      "542/542 [==============================] - 5s 9ms/step - loss: 0.1822 - acc: 0.9317 - val_loss: 0.2749 - val_acc: 0.9150\n",
      "Epoch 6/30\n",
      "542/542 [==============================] - 6s 10ms/step - loss: 0.1323 - acc: 0.9465 - val_loss: 0.2789 - val_acc: 0.9300\n",
      "Epoch 7/30\n",
      "542/542 [==============================] - 6s 10ms/step - loss: 0.1584 - acc: 0.9280 - val_loss: 0.4082 - val_acc: 0.8450\n",
      "Epoch 8/30\n",
      "542/542 [==============================] - 5s 10ms/step - loss: 0.1624 - acc: 0.9483 - val_loss: 0.2910 - val_acc: 0.9150\n",
      "Epoch 9/30\n",
      "542/542 [==============================] - 5s 10ms/step - loss: 0.1086 - acc: 0.9649 - val_loss: 0.2528 - val_acc: 0.9300\n",
      "Epoch 10/30\n",
      "542/542 [==============================] - 5s 10ms/step - loss: 0.1095 - acc: 0.9613 - val_loss: 0.2768 - val_acc: 0.9050\n",
      "Epoch 11/30\n",
      "542/542 [==============================] - 5s 9ms/step - loss: 0.0576 - acc: 0.9797 - val_loss: 0.2848 - val_acc: 0.9100\n",
      "Epoch 12/30\n",
      "542/542 [==============================] - 5s 8ms/step - loss: 0.0395 - acc: 0.9963 - val_loss: 0.3484 - val_acc: 0.9250\n",
      "Epoch 13/30\n",
      "542/542 [==============================] - 5s 8ms/step - loss: 0.0259 - acc: 0.9908 - val_loss: 0.3656 - val_acc: 0.9250\n",
      "Epoch 14/30\n",
      "542/542 [==============================] - 5s 8ms/step - loss: 0.0217 - acc: 0.9963 - val_loss: 0.3540 - val_acc: 0.9100\n",
      "Epoch 15/30\n",
      "542/542 [==============================] - 5s 8ms/step - loss: 0.0160 - acc: 0.9963 - val_loss: 0.3947 - val_acc: 0.9100\n",
      "Epoch 16/30\n",
      "542/542 [==============================] - 5s 8ms/step - loss: 0.0156 - acc: 1.0000 - val_loss: 0.3568 - val_acc: 0.9200\n",
      "Epoch 17/30\n",
      "542/542 [==============================] - 5s 8ms/step - loss: 0.0088 - acc: 1.0000 - val_loss: 0.4304 - val_acc: 0.9200\n",
      "Epoch 18/30\n",
      "542/542 [==============================] - 5s 9ms/step - loss: 0.0059 - acc: 1.0000 - val_loss: 0.4202 - val_acc: 0.9150\n",
      "Epoch 19/30\n",
      "542/542 [==============================] - 5s 8ms/step - loss: 0.0036 - acc: 1.0000 - val_loss: 0.4495 - val_acc: 0.9200\n",
      "Epoch 20/30\n",
      "542/542 [==============================] - 5s 8ms/step - loss: 0.0020 - acc: 1.0000 - val_loss: 0.4684 - val_acc: 0.9100\n",
      "Epoch 21/30\n",
      "542/542 [==============================] - 5s 9ms/step - loss: 0.0016 - acc: 1.0000 - val_loss: 0.4807 - val_acc: 0.9200\n",
      "Epoch 22/30\n",
      "542/542 [==============================] - 5s 9ms/step - loss: 0.0013 - acc: 1.0000 - val_loss: 0.4933 - val_acc: 0.9100\n",
      "Epoch 23/30\n",
      "542/542 [==============================] - 5s 10ms/step - loss: 0.0011 - acc: 1.0000 - val_loss: 0.5128 - val_acc: 0.9100\n",
      "Epoch 24/30\n",
      "542/542 [==============================] - 5s 10ms/step - loss: 9.9162e-04 - acc: 1.0000 - val_loss: 0.5150 - val_acc: 0.9100\n",
      "Epoch 25/30\n",
      "542/542 [==============================] - 6s 11ms/step - loss: 9.3237e-04 - acc: 1.0000 - val_loss: 0.5242 - val_acc: 0.9100\n",
      "Epoch 26/30\n",
      "542/542 [==============================] - 9s 17ms/step - loss: 7.8830e-04 - acc: 1.0000 - val_loss: 0.5299 - val_acc: 0.9100\n",
      "Epoch 27/30\n",
      "542/542 [==============================] - 6s 11ms/step - loss: 7.2933e-04 - acc: 1.0000 - val_loss: 0.5389 - val_acc: 0.9100\n",
      "Epoch 28/30\n",
      "542/542 [==============================] - 5s 9ms/step - loss: 6.4175e-04 - acc: 1.0000 - val_loss: 0.5408 - val_acc: 0.9100\n",
      "Epoch 29/30\n",
      "542/542 [==============================] - 6s 11ms/step - loss: 6.0391e-04 - acc: 1.0000 - val_loss: 0.5499 - val_acc: 0.9100\n",
      "Epoch 30/30\n",
      "542/542 [==============================] - 7s 14ms/step - loss: 5.1402e-04 - acc: 1.0000 - val_loss: 0.5581 - val_acc: 0.9100\n"
     ]
    }
   ],
   "source": [
    "cnn_history = model.fit(train_images, train_y, epochs=30,\n",
    "                        batch_size=32, validation_data=(val_images, val_y))"
   ]
  },
  {
   "cell_type": "markdown",
   "metadata": {},
   "source": [
    "Now, let's get the final results for our training and testing sets by calling `model.evaluate` and passing in the appropriate sets. "
   ]
  },
  {
   "cell_type": "code",
   "execution_count": 171,
   "metadata": {},
   "outputs": [
    {
     "name": "stdout",
     "output_type": "stream",
     "text": [
      "542/542 [==============================] - 3s 5ms/step\n"
     ]
    }
   ],
   "source": [
    "results_train = model.evaluate(train_images, train_y)"
   ]
  },
  {
   "cell_type": "code",
   "execution_count": 172,
   "metadata": {},
   "outputs": [
    {
     "name": "stdout",
     "output_type": "stream",
     "text": [
      "180/180 [==============================] - 1s 5ms/step\n"
     ]
    }
   ],
   "source": [
    "results_test = model.evaluate(test_images, test_y)"
   ]
  },
  {
   "cell_type": "code",
   "execution_count": 173,
   "metadata": {},
   "outputs": [
    {
     "data": {
      "text/plain": [
       "[0.00047544561654270877, 1.0]"
      ]
     },
     "execution_count": 173,
     "metadata": {},
     "output_type": "execute_result"
    }
   ],
   "source": [
    "results_train"
   ]
  },
  {
   "cell_type": "code",
   "execution_count": 174,
   "metadata": {},
   "outputs": [
    {
     "data": {
      "text/plain": [
       "[0.4757482965787252, 0.9000000026490953]"
      ]
     },
     "execution_count": 174,
     "metadata": {},
     "output_type": "execute_result"
    }
   ],
   "source": [
    "results_test"
   ]
  },
  {
   "cell_type": "markdown",
   "metadata": {},
   "source": [
    "Let's plot the accuracy of our CNN results in the cell below, as we did for our MLP."
   ]
  },
  {
   "cell_type": "code",
   "execution_count": 175,
   "metadata": {},
   "outputs": [
    {
     "data": {
      "image/png": "[encoded data removed]",
      "text/plain": [
       "<Figure size 432x288 with 1 Axes>"
      ]
     },
     "metadata": {},
     "output_type": "display_data"
    }
   ],
   "source": [
    "history = cnn_history.history\n",
    "\n",
    "plt.figure()\n",
    "plt.plot(history['acc'])\n",
    "plt.plot(history['val_acc'])\n",
    "plt.title('Accuracy/Validation Accuracy for CNN')\n",
    "plt.xlabel('Epoch')\n",
    "plt.legend(['accuracy', 'Val Accuracy'])\n",
    "plt.show()"
   ]
  },
  {
   "cell_type": "markdown",
   "metadata": {},
   "source": [
    "#### Interpreting Our Results\n",
    "\n",
    "Our model is still thrashing a bit, but the overall performance is much higher.  More importantly, it doesn't seem as if the model has overfit, whereas there was definitely evidence of overfitting when looking at the results from our MLP. \n",
    "\n",
    "To end this lab, we'll get some practice with Data Augmentation. This is a very useful trick for generating more data, while also stopping the model from overfitting on certain quirks found in the images!"
   ]
  },
  {
   "cell_type": "markdown",
   "metadata": {},
   "source": [
    "# Data augmentation"
   ]
  },
  {
   "cell_type": "markdown",
   "metadata": {},
   "source": [
    "ImageDataGenerator becomes really useful when we *actually* want to generate more data. We'll show you how this works.\n",
    "\n",
    "This generator takes in a range of parameters we can set to tell it exactly how we want to to modify the images it receives.  The original image will be left alone, and copies will be made according to these specifications, resulting in images that are slightly different, which we can add to our training and testing sets. \n",
    "\n",
    "Run the cell below to create a data generator.  "
   ]
  },
  {
   "cell_type": "code",
   "execution_count": 183,
   "metadata": {},
   "outputs": [],
   "source": [
    "train_datagen= ImageDataGenerator(rescale=1./255, \n",
    "     rotation_range=40,\n",
    "     width_shift_range=0.2,\n",
    "     height_shift_range=0.2,\n",
    "     shear_range=0.3,\n",
    "     zoom_range=0.1,\n",
    "     horizontal_flip = True)"
   ]
  },
  {
   "cell_type": "markdown",
   "metadata": {},
   "source": [
    "Now, we'll need to actually use the generator to generated augmented data. Run the cell below."
   ]
  },
  {
   "cell_type": "code",
   "execution_count": 184,
   "metadata": {},
   "outputs": [
    {
     "data": {
      "image/png": "[encoded data removed]",
      "text/plain": [
       "<Figure size 432x288 with 1 Axes>"
      ]
     },
     "metadata": {},
     "output_type": "display_data"
    },
    {
     "data": {
      "image/png": "[encoded data removed]",
      "text/plain": [
       "<Figure size 432x288 with 1 Axes>"
      ]
     },
     "metadata": {},
     "output_type": "display_data"
    },
    {
     "data": {
      "image/png": "[encoded data removed]",
      "text/plain": [
       "<Figure size 432x288 with 1 Axes>"
      ]
     },
     "metadata": {},
     "output_type": "display_data"
    }
   ],
   "source": [
    "names = [os.path.join(train_santa, name) for name in os.listdir(train_santa)]\n",
    "img_path = names[91]\n",
    "img = load_img(img_path, target_size=(64, 64))\n",
    "\n",
    "reshape_img = img_to_array(img) \n",
    "reshape_img = reshape_img.reshape((1,) + reshape_img.shape) \n",
    "i=0\n",
    "for batch in train_datagen.flow(reshape_img, batch_size=1):\n",
    "    plt.figure(i)\n",
    "    imgplot = plt.imshow(array_to_img(batch[0]))\n",
    "    i += 1\n",
    "    if i % 3 == 0:\n",
    "        break\n",
    "plt.show()"
   ]
  },
  {
   "cell_type": "markdown",
   "metadata": {},
   "source": [
    "Finally, we'll need to rescale everything as we did in the original data. Run the cell below to do this.  "
   ]
  },
  {
   "cell_type": "code",
   "execution_count": 185,
   "metadata": {},
   "outputs": [
    {
     "name": "stdout",
     "output_type": "stream",
     "text": [
      "Found 180 images belonging to 2 classes.\n",
      "Found 200 images belonging to 2 classes.\n",
      "Found 542 images belonging to 2 classes.\n"
     ]
    }
   ],
   "source": [
    "# get all the data in the directory split/test (180 images), and reshape them\n",
    "test_generator = ImageDataGenerator(rescale=1./255).flow_from_directory(\n",
    "        test_folder, \n",
    "        target_size=(64, 64), \n",
    "        batch_size = 180,\n",
    "        class_mode='binary') \n",
    "\n",
    "# get all the data in the directory split/validation (200 images), and reshape them\n",
    "val_generator = ImageDataGenerator(rescale=1./255).flow_from_directory(\n",
    "        val_folder, \n",
    "        target_size=(64, 64),\n",
    "        batch_size = 32,\n",
    "        class_mode='binary')\n",
    "\n",
    "# get all the data in the directory split/train (542 images), and reshape them\n",
    "train_generator = train_datagen.flow_from_directory(\n",
    "        train_folder, \n",
    "        target_size=(64, 64), \n",
    "        batch_size = 32, \n",
    "        class_mode='binary')"
   ]
  },
  {
   "cell_type": "markdown",
   "metadata": {},
   "source": [
    "Now, in the cell below, recreate the CNN model we did above.  Compile the model with the same specifications.  "
   ]
  },
  {
   "cell_type": "code",
   "execution_count": 186,
   "metadata": {},
   "outputs": [],
   "source": [
    "model = Sequential()\n",
    "\n",
    "model.add(layers.Conv2D(32, (3,3), activation='relu', input_shape=(64,64,3)))\n",
    "model.add(layers.MaxPooling2D((2,2)))\n",
    "model.add(layers.Conv2D(32,(4,4),activation='relu'))\n",
    "model.add(layers.MaxPooling2D((2,2)))\n",
    "model.add(layers.Conv2D(64,(3,3), activation='relu'))\n",
    "\n",
    "model.add(layers.Flatten())\n",
    "\n",
    "model.add(Dense(64, activation='relu'))\n",
    "model.add(Dense(1, activation='sigmoid'))"
   ]
  },
  {
   "cell_type": "code",
   "execution_count": 187,
   "metadata": {},
   "outputs": [],
   "source": [
    "model.compile(optimizer='adam',loss='binary_crossentropy',metrics=['accuracy'])"
   ]
  },
  {
   "cell_type": "markdown",
   "metadata": {},
   "source": [
    "Finally, we'll need to fit the model.  This time, instead of passing in an array of data, we'll pass in the `train_generator` object we created! \n",
    "\n",
    "In addition to passing in `train_generator`, pass in the following parameters:\n",
    "\n",
    "* `steps_per_epoch=25`\n",
    "* `epochs=30`\n",
    "* `validation_data=val_generator`\n",
    "* `validation_steps=25`"
   ]
  },
  {
   "cell_type": "code",
   "execution_count": 188,
   "metadata": {
    "scrolled": true
   },
   "outputs": [
    {
     "name": "stdout",
     "output_type": "stream",
     "text": [
      "Epoch 1/30\n",
      "25/25 [==============================] - 38s 2s/step - loss: 0.5817 - acc: 0.6957 - val_loss: 0.4786 - val_acc: 0.8100\n",
      "Epoch 2/30\n",
      "25/25 [==============================] - 33s 1s/step - loss: 0.3719 - acc: 0.8653 - val_loss: 0.4825 - val_acc: 0.8300\n",
      "Epoch 3/30\n",
      "25/25 [==============================] - 28s 1s/step - loss: 0.2746 - acc: 0.8962 - val_loss: 0.3846 - val_acc: 0.8500\n",
      "Epoch 4/30\n",
      "25/25 [==============================] - 28s 1s/step - loss: 0.2355 - acc: 0.9197 - val_loss: 0.2093 - val_acc: 0.9300\n",
      "Epoch 5/30\n",
      "25/25 [==============================] - 25s 987ms/step - loss: 0.2149 - acc: 0.9162 - val_loss: 0.2301 - val_acc: 0.9200\n",
      "Epoch 6/30\n",
      "25/25 [==============================] - 27s 1s/step - loss: 0.2134 - acc: 0.9223 - val_loss: 0.4213 - val_acc: 0.7950\n",
      "Epoch 7/30\n",
      "25/25 [==============================] - 22s 880ms/step - loss: 0.2399 - acc: 0.9110 - val_loss: 0.2727 - val_acc: 0.8600\n",
      "Epoch 8/30\n",
      "25/25 [==============================] - 22s 888ms/step - loss: 0.1846 - acc: 0.9248 - val_loss: 0.1786 - val_acc: 0.9250\n",
      "Epoch 9/30\n",
      "25/25 [==============================] - 20s 797ms/step - loss: 0.1937 - acc: 0.9308 - val_loss: 0.1715 - val_acc: 0.9350\n",
      "Epoch 10/30\n",
      "25/25 [==============================] - 22s 876ms/step - loss: 0.1390 - acc: 0.9449 - val_loss: 0.2310 - val_acc: 0.8900\n",
      "Epoch 11/30\n",
      "25/25 [==============================] - 23s 905ms/step - loss: 0.1734 - acc: 0.9297 - val_loss: 0.1545 - val_acc: 0.9400\n",
      "Epoch 12/30\n",
      "25/25 [==============================] - 21s 856ms/step - loss: 0.1321 - acc: 0.9511 - val_loss: 0.2086 - val_acc: 0.9100\n",
      "Epoch 13/30\n",
      "25/25 [==============================] - 23s 906ms/step - loss: 0.1580 - acc: 0.9461 - val_loss: 0.1663 - val_acc: 0.9400\n",
      "Epoch 14/30\n",
      "25/25 [==============================] - 22s 889ms/step - loss: 0.1445 - acc: 0.9462 - val_loss: 0.1907 - val_acc: 0.9300\n",
      "Epoch 15/30\n",
      "25/25 [==============================] - 25s 998ms/step - loss: 0.1559 - acc: 0.9385 - val_loss: 0.5431 - val_acc: 0.8050\n",
      "Epoch 16/30\n",
      "25/25 [==============================] - 26s 1s/step - loss: 0.1746 - acc: 0.9345 - val_loss: 0.4023 - val_acc: 0.8250\n",
      "Epoch 17/30\n",
      "25/25 [==============================] - 30s 1s/step - loss: 0.1225 - acc: 0.9510 - val_loss: 0.1274 - val_acc: 0.9400\n",
      "Epoch 18/30\n",
      "25/25 [==============================] - 25s 1s/step - loss: 0.1131 - acc: 0.9537 - val_loss: 0.1867 - val_acc: 0.9200\n",
      "Epoch 19/30\n",
      "25/25 [==============================] - 30s 1s/step - loss: 0.1399 - acc: 0.9460 - val_loss: 0.3027 - val_acc: 0.8650\n",
      "Epoch 20/30\n",
      "25/25 [==============================] - 30s 1s/step - loss: 0.1341 - acc: 0.9461 - val_loss: 0.2466 - val_acc: 0.9150\n",
      "Epoch 21/30\n",
      "25/25 [==============================] - 24s 965ms/step - loss: 0.1083 - acc: 0.9610 - val_loss: 0.2239 - val_acc: 0.9000\n",
      "Epoch 22/30\n",
      "25/25 [==============================] - 28s 1s/step - loss: 0.1263 - acc: 0.9449 - val_loss: 0.3087 - val_acc: 0.8750\n",
      "Epoch 23/30\n",
      "25/25 [==============================] - 24s 951ms/step - loss: 0.0926 - acc: 0.9686 - val_loss: 0.1752 - val_acc: 0.9400\n",
      "Epoch 24/30\n",
      "25/25 [==============================] - 24s 952ms/step - loss: 0.0882 - acc: 0.9661 - val_loss: 0.1619 - val_acc: 0.9350\n",
      "Epoch 25/30\n",
      "25/25 [==============================] - 26s 1s/step - loss: 0.1208 - acc: 0.9537 - val_loss: 0.2050 - val_acc: 0.9350\n",
      "Epoch 26/30\n",
      "25/25 [==============================] - 23s 922ms/step - loss: 0.0993 - acc: 0.9623 - val_loss: 0.1615 - val_acc: 0.9400\n",
      "Epoch 27/30\n",
      "25/25 [==============================] - 22s 874ms/step - loss: 0.0832 - acc: 0.9700 - val_loss: 0.2364 - val_acc: 0.9200\n",
      "Epoch 28/30\n",
      "25/25 [==============================] - 24s 945ms/step - loss: 0.0849 - acc: 0.9648 - val_loss: 0.2846 - val_acc: 0.9050\n",
      "Epoch 29/30\n",
      "25/25 [==============================] - 24s 949ms/step - loss: 0.0996 - acc: 0.9560 - val_loss: 0.1956 - val_acc: 0.9400\n",
      "Epoch 30/30\n",
      "25/25 [==============================] - 29s 1s/step - loss: 0.0828 - acc: 0.9712 - val_loss: 0.3051 - val_acc: 0.8850\n"
     ]
    }
   ],
   "source": [
    "history_2 = model.fit_generator(train_generator, steps_per_epoch=25, epochs=30,\n",
    "                               validation_data=val_generator, validation_steps=25)"
   ]
  },
  {
   "cell_type": "markdown",
   "metadata": {},
   "source": [
    "Now, run the cell below to create a test set and labels we can use for checking the performance with `model.evaluate()`"
   ]
  },
  {
   "cell_type": "code",
   "execution_count": 189,
   "metadata": {},
   "outputs": [],
   "source": [
    "test_x, test_y = next(test_generator)"
   ]
  },
  {
   "cell_type": "markdown",
   "metadata": {},
   "source": [
    "Now, run call `model.evaluate()` on the test set we just created, and then examine to see our testing loss and testing accuracy.  "
   ]
  },
  {
   "cell_type": "code",
   "execution_count": 190,
   "metadata": {},
   "outputs": [
    {
     "name": "stdout",
     "output_type": "stream",
     "text": [
      "180/180 [==============================] - 1s 3ms/step\n"
     ]
    }
   ],
   "source": [
    "results_test = model.evaluate(test_x, test_y)"
   ]
  },
  {
   "cell_type": "code",
   "execution_count": 191,
   "metadata": {},
   "outputs": [
    {
     "data": {
      "text/plain": [
       "[0.2877891421318054, 0.8944444457689921]"
      ]
     },
     "execution_count": 191,
     "metadata": {},
     "output_type": "execute_result"
    }
   ],
   "source": [
    "results_test"
   ]
  },
  {
   "cell_type": "markdown",
   "metadata": {},
   "source": [
    "Finally, let's visualize the results.  "
   ]
  },
  {
   "cell_type": "code",
   "execution_count": 192,
   "metadata": {},
   "outputs": [
    {
     "data": {
      "image/png": "[encoded data removed]",
      "text/plain": [
       "<Figure size 432x288 with 1 Axes>"
      ]
     },
     "metadata": {},
     "output_type": "display_data"
    }
   ],
   "source": [
    "history = history_2.history\n",
    "\n",
    "plt.figure()\n",
    "plt.plot(history['acc'])\n",
    "plt.plot(history['val_acc'])\n",
    "plt.title('Accuracy/Validation Accuracy for CNN with Data Augmentation') \n",
    "plt.xlabel('Epoch')\n",
    "plt.legend(['accuracy', 'Val Accuracy'])\n",
    "plt.show()"
   ]
  },
  {
   "cell_type": "markdown",
   "metadata": {},
   "source": [
    "Interesting results! Our model still seems to be thrashing a bit, but a little less so than before.  It's also worth noting that model performance took a dive in the last epoch or 2, but before the dive, was generally about as well as it was without data augmentation.  "
   ]
  },
  {
   "cell_type": "code",
   "execution_count": null,
   "metadata": {},
   "outputs": [],
   "source": []
  }
 ],
 "metadata": {
  "kernelspec": {
   "display_name": "Python 3",
   "language": "python",
   "name": "python3"
  },
  "language_info": {
   "codemirror_mode": {
    "name": "ipython",
    "version": 3
   },
   "file_extension": ".py",
   "mimetype": "text/x-python",
   "name": "python",
   "nbconvert_exporter": "python",
   "pygments_lexer": "ipython3",
   "version": "3.6.4"
  }
 },
 "nbformat": 4,
 "nbformat_minor": 2
}
